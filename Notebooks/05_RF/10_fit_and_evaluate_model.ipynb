{
 "cells": [
  {
   "cell_type": "markdown",
   "metadata": {},
   "source": [
    "## Random Forest: Fit and evaluate a model\n",
    "\n",
    "Using the Titanic dataset from [this](https://www.kaggle.com/c/titanic/overview) Kaggle competition.\n",
    "\n",
    "In this section, we will fit and evaluate a simple Random Forest model."
   ]
  },
  {
   "cell_type": "markdown",
   "metadata": {},
   "source": [
    "### Read in Data"
   ]
  },
  {
   "cell_type": "code",
   "execution_count": 2,
   "metadata": {},
   "outputs": [],
   "source": [
    "import joblib\n",
    "import pandas as pd\n",
    "from sklearn.ensemble import RandomForestClassifier\n",
    "from sklearn.model_selection import GridSearchCV\n",
    "import warnings\n",
    "warnings.filterwarnings('ignore', category=FutureWarning)\n",
    "warnings.filterwarnings('ignore', category=DeprecationWarning)\n",
    "\n",
    "tr_features = pd.read_csv('../../Data/train_features.csv')\n",
    "tr_labels = pd.read_csv('../../Data/train_labels.csv', skiprows=1, header=None)"
   ]
  },
  {
   "cell_type": "markdown",
   "metadata": {},
   "source": [
    "### Hyperparameter tuning\n",
    "\n",
    "![RF](img/rf.png)"
   ]
  },
  {
   "cell_type": "code",
   "execution_count": 5,
   "metadata": {},
   "outputs": [],
   "source": [
    "def print_results(results):\n",
    "    print('BEST PARAMS: {}\\n'.format(results.best_params_))\n",
    "\n",
    "    means = results.cv_results_['mean_test_score']\n",
    "    stds = results.cv_results_['std_test_score']\n",
    "    for mean, std, params in zip(means, stds, results.cv_results_['params']):\n",
    "        print('{} (+/-{}) for {}'.format(round(mean, 3), round(std * 2, 3), params))"
   ]
  },
  {
   "cell_type": "code",
   "execution_count": 7,
   "metadata": {},
   "outputs": [
    {
     "output_type": "stream",
     "name": "stdout",
     "text": [
      "BEST PARAMS: {'max_depth': 4, 'n_estimators': 250}\n\n0.783 (+/-0.104) for {'max_depth': 2, 'n_estimators': 5}\n0.803 (+/-0.109) for {'max_depth': 2, 'n_estimators': 50}\n0.803 (+/-0.115) for {'max_depth': 2, 'n_estimators': 250}\n0.811 (+/-0.144) for {'max_depth': 4, 'n_estimators': 5}\n0.822 (+/-0.087) for {'max_depth': 4, 'n_estimators': 50}\n0.824 (+/-0.108) for {'max_depth': 4, 'n_estimators': 250}\n0.807 (+/-0.079) for {'max_depth': 8, 'n_estimators': 5}\n0.822 (+/-0.077) for {'max_depth': 8, 'n_estimators': 50}\n0.822 (+/-0.071) for {'max_depth': 8, 'n_estimators': 250}\n0.796 (+/-0.051) for {'max_depth': 16, 'n_estimators': 5}\n0.813 (+/-0.038) for {'max_depth': 16, 'n_estimators': 50}\n0.809 (+/-0.034) for {'max_depth': 16, 'n_estimators': 250}\n0.781 (+/-0.069) for {'max_depth': 32, 'n_estimators': 5}\n0.807 (+/-0.03) for {'max_depth': 32, 'n_estimators': 50}\n0.809 (+/-0.03) for {'max_depth': 32, 'n_estimators': 250}\n0.79 (+/-0.064) for {'max_depth': None, 'n_estimators': 5}\n0.813 (+/-0.016) for {'max_depth': None, 'n_estimators': 50}\n0.815 (+/-0.027) for {'max_depth': None, 'n_estimators': 250}\n"
     ]
    }
   ],
   "source": [
    "rf = RandomForestClassifier()\n",
    "parameters = {\n",
    "    'n_estimators': [5, 50, 250],\n",
    "    'max_depth': [2, 4, 8, 16, 32, None]\n",
    "}\n",
    "\n",
    "cv = GridSearchCV(rf, parameters, cv=5)\n",
    "cv.fit(tr_features, tr_labels.values.ravel())\n",
    "\n",
    "print_results(cv)"
   ]
  },
  {
   "cell_type": "code",
   "execution_count": 8,
   "metadata": {},
   "outputs": [
    {
     "output_type": "execute_result",
     "data": {
      "text/plain": [
       "RandomForestClassifier(max_depth=4, n_estimators=250)"
      ]
     },
     "metadata": {},
     "execution_count": 8
    }
   ],
   "source": [
    "cv.best_estimator_"
   ]
  },
  {
   "cell_type": "markdown",
   "metadata": {},
   "source": [
    "### Write out pickled model"
   ]
  },
  {
   "cell_type": "code",
   "execution_count": 10,
   "metadata": {},
   "outputs": [
    {
     "output_type": "execute_result",
     "data": {
      "text/plain": [
       "['../../Models/RF_model.pkl']"
      ]
     },
     "metadata": {},
     "execution_count": 10
    }
   ],
   "source": [
    "joblib.dump(cv.best_estimator_, '../../Models/RF_model.pkl')"
   ]
  },
  {
   "cell_type": "code",
   "execution_count": null,
   "metadata": {},
   "outputs": [],
   "source": []
  }
 ],
 "metadata": {
  "kernelspec": {
   "name": "python3710jvsc74a57bd0f9a18b92d84a38db2e0ed420b462b8c4eb6f35151ec33c95525850cdef912518",
   "display_name": "Python 3.7.10 64-bit ('ml37': conda)"
  },
  "language_info": {
   "codemirror_mode": {
    "name": "ipython",
    "version": 3
   },
   "file_extension": ".py",
   "mimetype": "text/x-python",
   "name": "python",
   "nbconvert_exporter": "python",
   "pygments_lexer": "ipython3",
   "version": "3.7.10"
  }
 },
 "nbformat": 4,
 "nbformat_minor": 2
}