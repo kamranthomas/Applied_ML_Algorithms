{
 "cells": [
  {
   "cell_type": "markdown",
   "metadata": {},
   "source": [
    "## Boosting: Fit and evaluate a model\n",
    "\n",
    "Using the Titanic dataset from [this](https://www.kaggle.com/c/titanic/overview) Kaggle competition.\n",
    "\n",
    "In this section, we will fit and evaluate a simple Gradient Boosting model."
   ]
  },
  {
   "cell_type": "markdown",
   "metadata": {},
   "source": [
    "### Read in Data"
   ]
  },
  {
   "cell_type": "code",
   "execution_count": 3,
   "metadata": {},
   "outputs": [],
   "source": [
    "import joblib\n",
    "import pandas as pd\n",
    "from sklearn.ensemble import GradientBoostingClassifier\n",
    "from sklearn.model_selection import GridSearchCV\n",
    "import warnings\n",
    "warnings.filterwarnings('ignore', category=FutureWarning)\n",
    "warnings.filterwarnings('ignore', category=DeprecationWarning)\n",
    "\n",
    "tr_features = pd.read_csv('../../Data/train_features.csv')\n",
    "tr_labels = pd.read_csv('../../Data/train_labels.csv', skiprows=1, header=None)"
   ]
  },
  {
   "cell_type": "markdown",
   "metadata": {},
   "source": [
    "### Hyperparameter tuning\n",
    "\n",
    "![GB](img/gb.png)"
   ]
  },
  {
   "cell_type": "code",
   "execution_count": 4,
   "metadata": {},
   "outputs": [],
   "source": [
    "def print_results(results):\n",
    "    print('BEST PARAMS: {}\\n'.format(results.best_params_))\n",
    "\n",
    "    means = results.cv_results_['mean_test_score']\n",
    "    stds = results.cv_results_['std_test_score']\n",
    "    for mean, std, params in zip(means, stds, results.cv_results_['params']):\n",
    "        print('{} (+/-{}) for {}'.format(round(mean, 3), round(std * 2, 3), params))"
   ]
  },
  {
   "cell_type": "code",
   "execution_count": 5,
   "metadata": {},
   "outputs": [
    {
     "output_type": "stream",
     "name": "stdout",
     "text": [
      "BEST PARAMS: {'learning_rate': 0.01, 'max_depth': 3, 'n_estimators': 500}\n\n0.624 (+/-0.007) for {'learning_rate': 0.01, 'max_depth': 1, 'n_estimators': 5}\n0.796 (+/-0.115) for {'learning_rate': 0.01, 'max_depth': 1, 'n_estimators': 50}\n0.796 (+/-0.115) for {'learning_rate': 0.01, 'max_depth': 1, 'n_estimators': 250}\n0.811 (+/-0.117) for {'learning_rate': 0.01, 'max_depth': 1, 'n_estimators': 500}\n0.624 (+/-0.007) for {'learning_rate': 0.01, 'max_depth': 3, 'n_estimators': 5}\n0.811 (+/-0.069) for {'learning_rate': 0.01, 'max_depth': 3, 'n_estimators': 50}\n0.83 (+/-0.074) for {'learning_rate': 0.01, 'max_depth': 3, 'n_estimators': 250}\n0.841 (+/-0.077) for {'learning_rate': 0.01, 'max_depth': 3, 'n_estimators': 500}\n0.624 (+/-0.007) for {'learning_rate': 0.01, 'max_depth': 5, 'n_estimators': 5}\n0.822 (+/-0.052) for {'learning_rate': 0.01, 'max_depth': 5, 'n_estimators': 50}\n0.818 (+/-0.043) for {'learning_rate': 0.01, 'max_depth': 5, 'n_estimators': 250}\n0.826 (+/-0.047) for {'learning_rate': 0.01, 'max_depth': 5, 'n_estimators': 500}\n0.624 (+/-0.007) for {'learning_rate': 0.01, 'max_depth': 7, 'n_estimators': 5}\n0.818 (+/-0.053) for {'learning_rate': 0.01, 'max_depth': 7, 'n_estimators': 50}\n0.818 (+/-0.046) for {'learning_rate': 0.01, 'max_depth': 7, 'n_estimators': 250}\n0.798 (+/-0.035) for {'learning_rate': 0.01, 'max_depth': 7, 'n_estimators': 500}\n0.624 (+/-0.007) for {'learning_rate': 0.01, 'max_depth': 9, 'n_estimators': 5}\n0.802 (+/-0.054) for {'learning_rate': 0.01, 'max_depth': 9, 'n_estimators': 50}\n0.798 (+/-0.043) for {'learning_rate': 0.01, 'max_depth': 9, 'n_estimators': 250}\n0.794 (+/-0.048) for {'learning_rate': 0.01, 'max_depth': 9, 'n_estimators': 500}\n0.796 (+/-0.115) for {'learning_rate': 0.1, 'max_depth': 1, 'n_estimators': 5}\n0.815 (+/-0.119) for {'learning_rate': 0.1, 'max_depth': 1, 'n_estimators': 50}\n0.818 (+/-0.111) for {'learning_rate': 0.1, 'max_depth': 1, 'n_estimators': 250}\n0.828 (+/-0.092) for {'learning_rate': 0.1, 'max_depth': 1, 'n_estimators': 500}\n0.813 (+/-0.071) for {'learning_rate': 0.1, 'max_depth': 3, 'n_estimators': 5}\n0.839 (+/-0.076) for {'learning_rate': 0.1, 'max_depth': 3, 'n_estimators': 50}\n0.824 (+/-0.035) for {'learning_rate': 0.1, 'max_depth': 3, 'n_estimators': 250}\n0.811 (+/-0.036) for {'learning_rate': 0.1, 'max_depth': 3, 'n_estimators': 500}\n0.813 (+/-0.051) for {'learning_rate': 0.1, 'max_depth': 5, 'n_estimators': 5}\n0.818 (+/-0.025) for {'learning_rate': 0.1, 'max_depth': 5, 'n_estimators': 50}\n0.805 (+/-0.029) for {'learning_rate': 0.1, 'max_depth': 5, 'n_estimators': 250}\n0.802 (+/-0.036) for {'learning_rate': 0.1, 'max_depth': 5, 'n_estimators': 500}\n0.822 (+/-0.053) for {'learning_rate': 0.1, 'max_depth': 7, 'n_estimators': 5}\n0.801 (+/-0.028) for {'learning_rate': 0.1, 'max_depth': 7, 'n_estimators': 50}\n0.792 (+/-0.026) for {'learning_rate': 0.1, 'max_depth': 7, 'n_estimators': 250}\n0.79 (+/-0.028) for {'learning_rate': 0.1, 'max_depth': 7, 'n_estimators': 500}\n0.8 (+/-0.048) for {'learning_rate': 0.1, 'max_depth': 9, 'n_estimators': 5}\n0.792 (+/-0.032) for {'learning_rate': 0.1, 'max_depth': 9, 'n_estimators': 50}\n0.794 (+/-0.042) for {'learning_rate': 0.1, 'max_depth': 9, 'n_estimators': 250}\n0.788 (+/-0.048) for {'learning_rate': 0.1, 'max_depth': 9, 'n_estimators': 500}\n0.818 (+/-0.099) for {'learning_rate': 1, 'max_depth': 1, 'n_estimators': 5}\n0.832 (+/-0.081) for {'learning_rate': 1, 'max_depth': 1, 'n_estimators': 50}\n0.826 (+/-0.077) for {'learning_rate': 1, 'max_depth': 1, 'n_estimators': 250}\n0.822 (+/-0.081) for {'learning_rate': 1, 'max_depth': 1, 'n_estimators': 500}\n0.82 (+/-0.061) for {'learning_rate': 1, 'max_depth': 3, 'n_estimators': 5}\n0.792 (+/-0.04) for {'learning_rate': 1, 'max_depth': 3, 'n_estimators': 50}\n0.792 (+/-0.041) for {'learning_rate': 1, 'max_depth': 3, 'n_estimators': 250}\n0.792 (+/-0.025) for {'learning_rate': 1, 'max_depth': 3, 'n_estimators': 500}\n0.803 (+/-0.021) for {'learning_rate': 1, 'max_depth': 5, 'n_estimators': 5}\n0.788 (+/-0.019) for {'learning_rate': 1, 'max_depth': 5, 'n_estimators': 50}\n0.798 (+/-0.048) for {'learning_rate': 1, 'max_depth': 5, 'n_estimators': 250}\n0.802 (+/-0.021) for {'learning_rate': 1, 'max_depth': 5, 'n_estimators': 500}\n0.805 (+/-0.031) for {'learning_rate': 1, 'max_depth': 7, 'n_estimators': 5}\n0.798 (+/-0.066) for {'learning_rate': 1, 'max_depth': 7, 'n_estimators': 50}\n0.8 (+/-0.042) for {'learning_rate': 1, 'max_depth': 7, 'n_estimators': 250}\n0.796 (+/-0.037) for {'learning_rate': 1, 'max_depth': 7, 'n_estimators': 500}\n0.77 (+/-0.028) for {'learning_rate': 1, 'max_depth': 9, 'n_estimators': 5}\n0.786 (+/-0.049) for {'learning_rate': 1, 'max_depth': 9, 'n_estimators': 50}\n0.794 (+/-0.054) for {'learning_rate': 1, 'max_depth': 9, 'n_estimators': 250}\n0.783 (+/-0.052) for {'learning_rate': 1, 'max_depth': 9, 'n_estimators': 500}\n0.204 (+/-0.115) for {'learning_rate': 10, 'max_depth': 1, 'n_estimators': 5}\n0.204 (+/-0.115) for {'learning_rate': 10, 'max_depth': 1, 'n_estimators': 50}\n0.204 (+/-0.115) for {'learning_rate': 10, 'max_depth': 1, 'n_estimators': 250}\n0.204 (+/-0.115) for {'learning_rate': 10, 'max_depth': 1, 'n_estimators': 500}\n0.307 (+/-0.195) for {'learning_rate': 10, 'max_depth': 3, 'n_estimators': 5}\n0.307 (+/-0.195) for {'learning_rate': 10, 'max_depth': 3, 'n_estimators': 50}\n0.307 (+/-0.195) for {'learning_rate': 10, 'max_depth': 3, 'n_estimators': 250}\n0.307 (+/-0.195) for {'learning_rate': 10, 'max_depth': 3, 'n_estimators': 500}\n0.414 (+/-0.252) for {'learning_rate': 10, 'max_depth': 5, 'n_estimators': 5}\n0.414 (+/-0.264) for {'learning_rate': 10, 'max_depth': 5, 'n_estimators': 50}\n0.44 (+/-0.257) for {'learning_rate': 10, 'max_depth': 5, 'n_estimators': 250}\n0.417 (+/-0.271) for {'learning_rate': 10, 'max_depth': 5, 'n_estimators': 500}\n0.605 (+/-0.21) for {'learning_rate': 10, 'max_depth': 7, 'n_estimators': 5}\n0.592 (+/-0.185) for {'learning_rate': 10, 'max_depth': 7, 'n_estimators': 50}\n0.612 (+/-0.164) for {'learning_rate': 10, 'max_depth': 7, 'n_estimators': 250}\n0.605 (+/-0.193) for {'learning_rate': 10, 'max_depth': 7, 'n_estimators': 500}\n0.71 (+/-0.131) for {'learning_rate': 10, 'max_depth': 9, 'n_estimators': 5}\n0.712 (+/-0.127) for {'learning_rate': 10, 'max_depth': 9, 'n_estimators': 50}\n0.706 (+/-0.115) for {'learning_rate': 10, 'max_depth': 9, 'n_estimators': 250}\n0.719 (+/-0.13) for {'learning_rate': 10, 'max_depth': 9, 'n_estimators': 500}\n0.376 (+/-0.007) for {'learning_rate': 100, 'max_depth': 1, 'n_estimators': 5}\n0.376 (+/-0.007) for {'learning_rate': 100, 'max_depth': 1, 'n_estimators': 50}\n0.376 (+/-0.007) for {'learning_rate': 100, 'max_depth': 1, 'n_estimators': 250}\n0.376 (+/-0.007) for {'learning_rate': 100, 'max_depth': 1, 'n_estimators': 500}\n0.29 (+/-0.102) for {'learning_rate': 100, 'max_depth': 3, 'n_estimators': 5}\n0.29 (+/-0.102) for {'learning_rate': 100, 'max_depth': 3, 'n_estimators': 50}\n0.29 (+/-0.102) for {'learning_rate': 100, 'max_depth': 3, 'n_estimators': 250}\n0.29 (+/-0.102) for {'learning_rate': 100, 'max_depth': 3, 'n_estimators': 500}\n0.359 (+/-0.19) for {'learning_rate': 100, 'max_depth': 5, 'n_estimators': 5}\n0.361 (+/-0.207) for {'learning_rate': 100, 'max_depth': 5, 'n_estimators': 50}\n0.359 (+/-0.196) for {'learning_rate': 100, 'max_depth': 5, 'n_estimators': 250}\n0.367 (+/-0.198) for {'learning_rate': 100, 'max_depth': 5, 'n_estimators': 500}\n0.584 (+/-0.077) for {'learning_rate': 100, 'max_depth': 7, 'n_estimators': 5}\n0.582 (+/-0.103) for {'learning_rate': 100, 'max_depth': 7, 'n_estimators': 50}\n0.556 (+/-0.098) for {'learning_rate': 100, 'max_depth': 7, 'n_estimators': 250}\n0.579 (+/-0.154) for {'learning_rate': 100, 'max_depth': 7, 'n_estimators': 500}\n0.693 (+/-0.085) for {'learning_rate': 100, 'max_depth': 9, 'n_estimators': 5}\n0.657 (+/-0.1) for {'learning_rate': 100, 'max_depth': 9, 'n_estimators': 50}\n0.667 (+/-0.072) for {'learning_rate': 100, 'max_depth': 9, 'n_estimators': 250}\n0.691 (+/-0.118) for {'learning_rate': 100, 'max_depth': 9, 'n_estimators': 500}\n"
     ]
    }
   ],
   "source": [
    "gb = GradientBoostingClassifier()\n",
    "parameters = {\n",
    "    'n_estimators': [5, 50, 250, 500],\n",
    "    'max_depth': [1, 3, 5, 7, 9],\n",
    "    'learning_rate': [0.01, 0.1, 1, 10, 100]\n",
    "}\n",
    "\n",
    "cv = GridSearchCV(gb, parameters, cv=5)\n",
    "cv.fit(tr_features, tr_labels.values.ravel())\n",
    "\n",
    "print_results(cv)"
   ]
  },
  {
   "cell_type": "markdown",
   "metadata": {},
   "source": [
    "### Write out pickled model"
   ]
  },
  {
   "cell_type": "code",
   "execution_count": 6,
   "metadata": {},
   "outputs": [
    {
     "output_type": "execute_result",
     "data": {
      "text/plain": [
       "['../../Models/GB_model.pkl']"
      ]
     },
     "metadata": {},
     "execution_count": 6
    }
   ],
   "source": [
    "joblib.dump(cv.best_estimator_, '../../Models/GB_model.pkl')"
   ]
  },
  {
   "cell_type": "code",
   "execution_count": null,
   "metadata": {},
   "outputs": [],
   "source": []
  }
 ],
 "metadata": {
  "kernelspec": {
   "name": "python3",
   "display_name": "Python 3.7.10 64-bit ('ml37': conda)"
  },
  "language_info": {
   "codemirror_mode": {
    "name": "ipython",
    "version": 3
   },
   "file_extension": ".py",
   "mimetype": "text/x-python",
   "name": "python",
   "nbconvert_exporter": "python",
   "pygments_lexer": "ipython3",
   "version": "3.7.10"
  },
  "interpreter": {
   "hash": "f9a18b92d84a38db2e0ed420b462b8c4eb6f35151ec33c95525850cdef912518"
  }
 },
 "nbformat": 4,
 "nbformat_minor": 2
}